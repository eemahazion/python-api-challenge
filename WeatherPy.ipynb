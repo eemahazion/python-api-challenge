{
 "cells": [
  {
   "cell_type": "markdown",
   "metadata": {},
   "source": [
    "# WeatherPy\n",
    "\n",
    "---\n",
    "\n",
    "## Starter Code to Generate Random Geographic Coordinates and a List of Cities"
   ]
  },
  {
   "cell_type": "code",
   "execution_count": 1,
   "metadata": {
    "scrolled": true
   },
   "outputs": [],
   "source": [
    "# Dependencies and Setup\n",
    "import matplotlib.pyplot as plt\n",
    "import pandas as pd\n",
    "import numpy as np\n",
    "import requests\n",
    "import time\n",
    "from scipy.stats import linregress\n",
    "\n",
    "# Impor the OpenWeatherMap API key\n",
    "from api_keys import weather_api_key\n",
    "\n",
    "# Import citipy to determine the cities based on latitude and longitude\n",
    "from citipy import citipy"
   ]
  },
  {
   "cell_type": "markdown",
   "metadata": {},
   "source": [
    "### Generate the Cities List by Using the `citipy` Library"
   ]
  },
  {
   "cell_type": "code",
   "execution_count": 2,
   "metadata": {},
   "outputs": [
    {
     "name": "stdout",
     "output_type": "stream",
     "text": [
      "Number of cities in the list: 603\n"
     ]
    }
   ],
   "source": [
    "# Empty list for holding the latitude and longitude combinations\n",
    "lat_lngs = []\n",
    "\n",
    "# Empty list for holding the cities names\n",
    "cities = []\n",
    "\n",
    "# Range of latitudes and longitudes\n",
    "lat_range = (-90, 90)\n",
    "lng_range = (-180, 180)\n",
    "\n",
    "# Create a set of random lat and lng combinations\n",
    "lats = np.random.uniform(lat_range[0], lat_range[1], size=1500)\n",
    "lngs = np.random.uniform(lng_range[0], lng_range[1], size=1500)\n",
    "lat_lngs = zip(lats, lngs)\n",
    "\n",
    "# Identify nearest city for each lat, lng combination\n",
    "for lat_lng in lat_lngs:\n",
    "    city = citipy.nearest_city(lat_lng[0], lat_lng[1]).city_name\n",
    "    \n",
    "    # If the city is unique, then add it to a our cities list\n",
    "    if city not in cities:\n",
    "        cities.append(city)\n",
    "\n",
    "# Print the city count to confirm sufficient count\n",
    "print(f\"Number of cities in the list: {len(cities)}\")"
   ]
  },
  {
   "cell_type": "markdown",
   "metadata": {},
   "source": [
    "---"
   ]
  },
  {
   "cell_type": "markdown",
   "metadata": {},
   "source": [
    "## Requirement 1: Create Plots to Showcase the Relationship Between Weather Variables and Latitude\n",
    "\n",
    "### Use the OpenWeatherMap API to retrieve weather data from the cities list generated in the started code"
   ]
  },
  {
   "cell_type": "code",
   "execution_count": 3,
   "metadata": {},
   "outputs": [
    {
     "name": "stdout",
     "output_type": "stream",
     "text": [
      "Beginning Data Retrieval     \n",
      "-----------------------------\n",
      "Processing Record 1 of Set 1 | ilulissat\n",
      "Processing Record 2 of Set 1 | alexandria\n",
      "Processing Record 3 of Set 1 | kavieng\n",
      "Processing Record 4 of Set 1 | taolanaro\n",
      "City not found. Skipping...\n",
      "Processing Record 5 of Set 1 | new norfolk\n",
      "Processing Record 6 of Set 1 | moerai\n",
      "Processing Record 7 of Set 1 | vaini\n",
      "Processing Record 8 of Set 1 | kodiak\n",
      "Processing Record 9 of Set 1 | rikitea\n",
      "Processing Record 10 of Set 1 | dikson\n",
      "Processing Record 11 of Set 1 | pevek\n",
      "Processing Record 12 of Set 1 | tasiilaq\n",
      "Processing Record 13 of Set 1 | punta arenas\n",
      "Processing Record 14 of Set 1 | hoquiam\n",
      "Processing Record 15 of Set 1 | cape town\n",
      "Processing Record 16 of Set 1 | takoradi\n",
      "Processing Record 17 of Set 1 | sola\n",
      "Processing Record 18 of Set 1 | iqaluit\n",
      "Processing Record 19 of Set 1 | camacha\n",
      "Processing Record 20 of Set 1 | busselton\n",
      "Processing Record 21 of Set 1 | nanortalik\n",
      "Processing Record 22 of Set 1 | illoqqortoormiut\n",
      "City not found. Skipping...\n",
      "Processing Record 23 of Set 1 | atuona\n",
      "Processing Record 24 of Set 1 | kahului\n",
      "Processing Record 25 of Set 1 | jamestown\n",
      "Processing Record 26 of Set 1 | hobart\n",
      "Processing Record 27 of Set 1 | kaitangata\n",
      "Processing Record 28 of Set 1 | yellowknife\n",
      "Processing Record 29 of Set 1 | ushuaia\n",
      "Processing Record 30 of Set 1 | marystown\n",
      "Processing Record 31 of Set 1 | guanagazapa\n",
      "Processing Record 32 of Set 1 | upernavik\n",
      "Processing Record 33 of Set 1 | esperance\n",
      "Processing Record 34 of Set 1 | mataura\n",
      "Processing Record 35 of Set 1 | perth\n",
      "Processing Record 36 of Set 1 | qaanaaq\n",
      "Processing Record 37 of Set 1 | ribeira grande\n",
      "Processing Record 38 of Set 1 | hilo\n",
      "Processing Record 39 of Set 1 | pacific grove\n",
      "Processing Record 40 of Set 1 | jiazi\n",
      "Processing Record 41 of Set 1 | okhotsk\n",
      "Processing Record 42 of Set 1 | attawapiskat\n",
      "City not found. Skipping...\n",
      "Processing Record 43 of Set 1 | nikolskoye\n",
      "Processing Record 44 of Set 1 | itarema\n",
      "Processing Record 45 of Set 1 | mys shmidta\n",
      "City not found. Skipping...\n",
      "Processing Record 46 of Set 1 | tessalit\n",
      "Processing Record 47 of Set 1 | sumbawa\n",
      "City not found. Skipping...\n",
      "Processing Record 48 of Set 1 | georgetown\n",
      "Processing Record 49 of Set 1 | barrow\n",
      "Processing Record 50 of Set 1 | teluk intan\n",
      "Processing Record 0 of Set 2 | sapao\n",
      "City not found. Skipping...\n",
      "Processing Record 1 of Set 2 | puerto madryn\n",
      "Processing Record 2 of Set 2 | udachnyy\n",
      "Processing Record 3 of Set 2 | chokurdakh\n",
      "Processing Record 4 of Set 2 | corinto\n",
      "Processing Record 5 of Set 2 | barentsburg\n",
      "City not found. Skipping...\n",
      "Processing Record 6 of Set 2 | naze\n",
      "Processing Record 7 of Set 2 | arraial do cabo\n",
      "Processing Record 8 of Set 2 | albany\n",
      "Processing Record 9 of Set 2 | sumbe\n",
      "Processing Record 10 of Set 2 | samana\n",
      "Processing Record 11 of Set 2 | khatanga\n",
      "Processing Record 12 of Set 2 | port alfred\n",
      "Processing Record 13 of Set 2 | half moon bay\n",
      "Processing Record 14 of Set 2 | lebu\n",
      "Processing Record 15 of Set 2 | gat\n",
      "Processing Record 16 of Set 2 | bredasdorp\n",
      "Processing Record 17 of Set 2 | novosemeykino\n",
      "Processing Record 18 of Set 2 | jining\n",
      "Processing Record 19 of Set 2 | pecos\n",
      "Processing Record 20 of Set 2 | mehamn\n",
      "Processing Record 21 of Set 2 | yar-sale\n",
      "Processing Record 22 of Set 2 | san ramon de la nueva oran\n",
      "Processing Record 23 of Set 2 | aswan\n",
      "Processing Record 24 of Set 2 | tuktoyaktuk\n",
      "Processing Record 25 of Set 2 | conceicao do araguaia\n",
      "Processing Record 26 of Set 2 | la ronge\n",
      "Processing Record 27 of Set 2 | puerto ayora\n",
      "Processing Record 28 of Set 2 | port elizabeth\n",
      "Processing Record 29 of Set 2 | vung tau\n",
      "Processing Record 30 of Set 2 | saint-philippe\n",
      "Processing Record 31 of Set 2 | bengkulu\n",
      "Processing Record 32 of Set 2 | craig\n",
      "Processing Record 33 of Set 2 | hermanus\n",
      "Processing Record 34 of Set 2 | port macquarie\n",
      "Processing Record 35 of Set 2 | formosa do rio preto\n",
      "Processing Record 36 of Set 2 | mar del plata\n",
      "Processing Record 37 of Set 2 | mount pleasant\n",
      "Processing Record 38 of Set 2 | hualmay\n",
      "Processing Record 39 of Set 2 | sao joao do piaui\n",
      "Processing Record 40 of Set 2 | ibra\n",
      "Processing Record 41 of Set 2 | ancud\n",
      "Processing Record 42 of Set 2 | surgut\n",
      "Processing Record 43 of Set 2 | birjand\n",
      "Processing Record 44 of Set 2 | hobyo\n",
      "Processing Record 45 of Set 2 | san patricio\n",
      "Processing Record 46 of Set 2 | jiuquan\n",
      "Processing Record 47 of Set 2 | bonavista\n",
      "Processing Record 48 of Set 2 | kui buri\n",
      "Processing Record 49 of Set 2 | castro\n",
      "Processing Record 0 of Set 3 | jibuti\n",
      "Processing Record 1 of Set 3 | kruisfontein\n",
      "Processing Record 2 of Set 3 | mount isa\n",
      "Processing Record 3 of Set 3 | bluff\n",
      "Processing Record 4 of Set 3 | semey\n",
      "Processing Record 5 of Set 3 | kamenskoye\n",
      "City not found. Skipping...\n",
      "Processing Record 6 of Set 3 | mahebourg\n",
      "Processing Record 7 of Set 3 | ust-nera\n",
      "Processing Record 8 of Set 3 | khandyga\n",
      "Processing Record 9 of Set 3 | port-gentil\n",
      "Processing Record 10 of Set 3 | jomalig\n",
      "City not found. Skipping...\n",
      "Processing Record 11 of Set 3 | harper\n",
      "Processing Record 12 of Set 3 | vao\n",
      "Processing Record 13 of Set 3 | kiunga\n",
      "Processing Record 14 of Set 3 | tarko-sale\n",
      "Processing Record 15 of Set 3 | kot kapura\n",
      "Processing Record 16 of Set 3 | acurenam\n",
      "Processing Record 17 of Set 3 | provideniya\n",
      "Processing Record 18 of Set 3 | khagrachari\n",
      "City not found. Skipping...\n",
      "Processing Record 19 of Set 3 | luderitz\n",
      "Processing Record 20 of Set 3 | hithadhoo\n",
      "Processing Record 21 of Set 3 | beberibe\n",
      "Processing Record 22 of Set 3 | fortuna\n",
      "Processing Record 23 of Set 3 | dutlwe\n",
      "Processing Record 24 of Set 3 | tunxi\n",
      "City not found. Skipping...\n",
      "Processing Record 25 of Set 3 | kidal\n",
      "Processing Record 26 of Set 3 | morden\n",
      "Processing Record 27 of Set 3 | barcelos\n",
      "Processing Record 28 of Set 3 | tura\n",
      "Processing Record 29 of Set 3 | piacabucu\n",
      "Processing Record 30 of Set 3 | hofn\n",
      "Processing Record 31 of Set 3 | teahupoo\n",
      "Processing Record 32 of Set 3 | escanaba\n",
      "Processing Record 33 of Set 3 | bambous virieux\n",
      "Processing Record 34 of Set 3 | novyy urengoy\n",
      "Processing Record 35 of Set 3 | gizo\n",
      "Processing Record 36 of Set 3 | saint george\n",
      "Processing Record 37 of Set 3 | torrijos\n",
      "Processing Record 38 of Set 3 | solsvik\n",
      "City not found. Skipping...\n",
      "Processing Record 39 of Set 3 | yhu\n",
      "Processing Record 40 of Set 3 | aviles\n",
      "Processing Record 41 of Set 3 | coruripe\n",
      "Processing Record 42 of Set 3 | boende\n",
      "Processing Record 43 of Set 3 | bethel\n",
      "Processing Record 44 of Set 3 | toowoomba\n",
      "Processing Record 45 of Set 3 | kaniama\n",
      "Processing Record 46 of Set 3 | rio gallegos\n",
      "Processing Record 47 of Set 3 | chekhov\n",
      "Processing Record 48 of Set 3 | padang\n",
      "Processing Record 49 of Set 3 | souillac\n",
      "Processing Record 0 of Set 4 | ostrovnoy\n",
      "Processing Record 1 of Set 4 | koltsovo\n",
      "Processing Record 2 of Set 4 | butaritari\n",
      "Processing Record 3 of Set 4 | darhan\n",
      "Processing Record 4 of Set 4 | tripoli\n",
      "Processing Record 5 of Set 4 | tsihombe\n",
      "City not found. Skipping...\n",
      "Processing Record 6 of Set 4 | lata\n",
      "Processing Record 7 of Set 4 | porto novo\n",
      "Processing Record 8 of Set 4 | te anau\n",
      "Processing Record 9 of Set 4 | umm kaddadah\n",
      "Processing Record 10 of Set 4 | rabo de peixe\n",
      "Processing Record 11 of Set 4 | amderma\n",
      "City not found. Skipping...\n",
      "Processing Record 12 of Set 4 | nome\n",
      "Processing Record 13 of Set 4 | henties bay\n",
      "Processing Record 14 of Set 4 | east london\n",
      "Processing Record 15 of Set 4 | lodja\n",
      "Processing Record 16 of Set 4 | vestmanna\n",
      "Processing Record 17 of Set 4 | ampanihy\n",
      "Processing Record 18 of Set 4 | emerald\n",
      "Processing Record 19 of Set 4 | qaqortoq\n",
      "Processing Record 20 of Set 4 | nizhneyansk\n",
      "City not found. Skipping...\n",
      "Processing Record 21 of Set 4 | cherskiy\n",
      "Processing Record 22 of Set 4 | oktyabrskoye\n",
      "Processing Record 23 of Set 4 | vila franca do campo\n",
      "Processing Record 24 of Set 4 | fort nelson\n",
      "Processing Record 25 of Set 4 | kilindoni\n",
      "Processing Record 26 of Set 4 | vila velha\n",
      "Processing Record 27 of Set 4 | sangar\n",
      "Processing Record 28 of Set 4 | lesnoye\n",
      "Processing Record 29 of Set 4 | ponta delgada\n",
      "Processing Record 30 of Set 4 | tabukiniberu\n",
      "City not found. Skipping...\n",
      "Processing Record 31 of Set 4 | erzurum\n",
      "Processing Record 32 of Set 4 | torbay\n",
      "Processing Record 33 of Set 4 | norman wells\n",
      "Processing Record 34 of Set 4 | guerrero negro\n",
      "Processing Record 35 of Set 4 | grand river south east\n"
     ]
    },
    {
     "name": "stdout",
     "output_type": "stream",
     "text": [
      "City not found. Skipping...\n",
      "Processing Record 36 of Set 4 | hambantota\n",
      "Processing Record 37 of Set 4 | ozark\n",
      "Processing Record 38 of Set 4 | coquimbo\n",
      "Processing Record 39 of Set 4 | caldas novas\n",
      "Processing Record 40 of Set 4 | volchansk\n",
      "Processing Record 41 of Set 4 | lavrentiya\n",
      "Processing Record 42 of Set 4 | noyabrsk\n",
      "Processing Record 43 of Set 4 | tapiramuta\n",
      "Processing Record 44 of Set 4 | nantucket\n",
      "Processing Record 45 of Set 4 | batagay\n",
      "Processing Record 46 of Set 4 | vostok\n",
      "Processing Record 47 of Set 4 | yershov\n",
      "Processing Record 48 of Set 4 | buraydah\n",
      "Processing Record 49 of Set 4 | golden\n",
      "Processing Record 0 of Set 5 | severo-kurilsk\n",
      "Processing Record 1 of Set 5 | sorland\n",
      "Processing Record 2 of Set 5 | esil\n",
      "Processing Record 3 of Set 5 | thompson\n",
      "Processing Record 4 of Set 5 | eufaula\n",
      "Processing Record 5 of Set 5 | tarakan\n",
      "Processing Record 6 of Set 5 | tabiauea\n",
      "City not found. Skipping...\n",
      "Processing Record 7 of Set 5 | hasaki\n",
      "Processing Record 8 of Set 5 | hargeysa\n",
      "Processing Record 9 of Set 5 | phayao\n",
      "Processing Record 10 of Set 5 | rawson\n",
      "Processing Record 11 of Set 5 | ballinasloe\n",
      "Processing Record 12 of Set 5 | samusu\n",
      "City not found. Skipping...\n",
      "Processing Record 13 of Set 5 | kasongo-lunda\n",
      "Processing Record 14 of Set 5 | laguna\n",
      "Processing Record 15 of Set 5 | moanda\n",
      "Processing Record 16 of Set 5 | lagoa\n",
      "Processing Record 17 of Set 5 | kununurra\n",
      "Processing Record 18 of Set 5 | alekseyevsk\n",
      "Processing Record 19 of Set 5 | aguada de pasajeros\n",
      "Processing Record 20 of Set 5 | tumannyy\n",
      "City not found. Skipping...\n",
      "Processing Record 21 of Set 5 | lazaro cardenas\n",
      "Processing Record 22 of Set 5 | van\n",
      "Processing Record 23 of Set 5 | utiroa\n",
      "City not found. Skipping...\n",
      "Processing Record 24 of Set 5 | encheng\n",
      "Processing Record 25 of Set 5 | prieska\n",
      "Processing Record 26 of Set 5 | zhangye\n",
      "Processing Record 27 of Set 5 | belushya guba\n",
      "City not found. Skipping...\n",
      "Processing Record 28 of Set 5 | beringovskiy\n",
      "Processing Record 29 of Set 5 | spencer\n",
      "Processing Record 30 of Set 5 | muyezerskiy\n",
      "Processing Record 31 of Set 5 | pakwach\n",
      "City not found. Skipping...\n",
      "Processing Record 32 of Set 5 | fairbanks\n",
      "Processing Record 33 of Set 5 | mushie\n",
      "Processing Record 34 of Set 5 | kuytun\n",
      "Processing Record 35 of Set 5 | the valley\n",
      "Processing Record 36 of Set 5 | cabedelo\n",
      "Processing Record 37 of Set 5 | constitucion\n",
      "Processing Record 38 of Set 5 | pilar\n",
      "Processing Record 39 of Set 5 | vaitupu\n",
      "City not found. Skipping...\n",
      "Processing Record 40 of Set 5 | grand-lahou\n",
      "Processing Record 41 of Set 5 | lompoc\n",
      "Processing Record 42 of Set 5 | yulara\n",
      "Processing Record 43 of Set 5 | ibirite\n",
      "Processing Record 44 of Set 5 | fontem\n",
      "Processing Record 45 of Set 5 | bandiagara\n",
      "Processing Record 46 of Set 5 | isangel\n",
      "Processing Record 47 of Set 5 | khash\n",
      "Processing Record 48 of Set 5 | tapaua\n",
      "City not found. Skipping...\n",
      "Processing Record 49 of Set 5 | saint-francois\n",
      "Processing Record 0 of Set 6 | haimen\n",
      "Processing Record 1 of Set 6 | aklavik\n",
      "Processing Record 2 of Set 6 | agadir\n",
      "Processing Record 3 of Set 6 | ust-kut\n",
      "Processing Record 4 of Set 6 | babanusah\n",
      "City not found. Skipping...\n",
      "Processing Record 5 of Set 6 | baherden\n",
      "Processing Record 6 of Set 6 | touros\n",
      "Processing Record 7 of Set 6 | aguimes\n",
      "Processing Record 8 of Set 6 | lahij\n",
      "Processing Record 9 of Set 6 | iraray\n",
      "Processing Record 10 of Set 6 | chapais\n",
      "Processing Record 11 of Set 6 | venado tuerto\n",
      "Processing Record 12 of Set 6 | matamba\n",
      "Processing Record 13 of Set 6 | praia\n",
      "Processing Record 14 of Set 6 | rio cuarto\n",
      "Processing Record 15 of Set 6 | koungou\n",
      "Processing Record 16 of Set 6 | alofi\n",
      "Processing Record 17 of Set 6 | eyl\n",
      "Processing Record 18 of Set 6 | fethiye\n",
      "Processing Record 19 of Set 6 | kyren\n",
      "Processing Record 20 of Set 6 | pisco\n",
      "Processing Record 21 of Set 6 | chuy\n",
      "Processing Record 22 of Set 6 | kapaa\n",
      "Processing Record 23 of Set 6 | caucaia\n",
      "Processing Record 24 of Set 6 | norilsk\n",
      "Processing Record 25 of Set 6 | coihaique\n",
      "Processing Record 26 of Set 6 | wundanyi\n",
      "Processing Record 27 of Set 6 | caravelas\n",
      "Processing Record 28 of Set 6 | sao miguel do araguaia\n",
      "Processing Record 29 of Set 6 | zeya\n",
      "Processing Record 30 of Set 6 | tacna\n",
      "Processing Record 31 of Set 6 | paradwip\n",
      "City not found. Skipping...\n",
      "Processing Record 32 of Set 6 | dzilam gonzalez\n",
      "Processing Record 33 of Set 6 | gikongoro\n",
      "Processing Record 34 of Set 6 | vilyuysk\n",
      "Processing Record 35 of Set 6 | grindavik\n",
      "Processing Record 36 of Set 6 | airai\n",
      "Processing Record 37 of Set 6 | sorvag\n",
      "City not found. Skipping...\n",
      "Processing Record 38 of Set 6 | port hardy\n",
      "Processing Record 39 of Set 6 | samarinda\n",
      "Processing Record 40 of Set 6 | zyryanka\n",
      "Processing Record 41 of Set 6 | drummondville\n",
      "Processing Record 42 of Set 6 | karlskrona\n",
      "Processing Record 43 of Set 6 | bathurst\n",
      "Processing Record 44 of Set 6 | sentyabrskiy\n",
      "City not found. Skipping...\n",
      "Processing Record 45 of Set 6 | mount gambier\n",
      "Processing Record 46 of Set 6 | saskylakh\n",
      "Processing Record 47 of Set 6 | sinegorye\n",
      "Processing Record 48 of Set 6 | salamiyah\n",
      "Processing Record 49 of Set 6 | comodoro rivadavia\n",
      "Processing Record 0 of Set 7 | faanui\n",
      "Processing Record 1 of Set 7 | nambucca heads\n",
      "Processing Record 2 of Set 7 | whyalla\n",
      "Processing Record 3 of Set 7 | pangnirtung\n",
      "Processing Record 4 of Set 7 | sitka\n",
      "Processing Record 5 of Set 7 | victoria\n",
      "Processing Record 6 of Set 7 | nivala\n",
      "Processing Record 7 of Set 7 | tiksi\n",
      "Processing Record 8 of Set 7 | lucea\n",
      "Processing Record 9 of Set 7 | nyurba\n",
      "Processing Record 10 of Set 7 | goderich\n",
      "Processing Record 11 of Set 7 | sovetskoye\n",
      "Processing Record 12 of Set 7 | vestmannaeyjar\n",
      "Processing Record 13 of Set 7 | araxa\n",
      "Processing Record 14 of Set 7 | abha\n",
      "Processing Record 15 of Set 7 | dwarka\n",
      "Processing Record 16 of Set 7 | agadez\n",
      "Processing Record 17 of Set 7 | husavik\n",
      "Processing Record 18 of Set 7 | paamiut\n",
      "Processing Record 19 of Set 7 | kaeo\n",
      "Processing Record 20 of Set 7 | gotsu\n",
      "Processing Record 21 of Set 7 | horizontina\n",
      "Processing Record 22 of Set 7 | lokosovo\n",
      "Processing Record 23 of Set 7 | dujuma\n",
      "City not found. Skipping...\n",
      "Processing Record 24 of Set 7 | kannur\n",
      "Processing Record 25 of Set 7 | marrakesh\n",
      "Processing Record 26 of Set 7 | bourail\n",
      "Processing Record 27 of Set 7 | anyama\n",
      "Processing Record 28 of Set 7 | khasan\n",
      "Processing Record 29 of Set 7 | verrettes\n",
      "Processing Record 30 of Set 7 | cayenne\n",
      "Processing Record 31 of Set 7 | madarounfa\n",
      "Processing Record 32 of Set 7 | kansas city\n",
      "Processing Record 33 of Set 7 | leningradskiy\n",
      "Processing Record 34 of Set 7 | belen\n",
      "Processing Record 35 of Set 7 | sur\n",
      "Processing Record 36 of Set 7 | sonoita\n",
      "Processing Record 37 of Set 7 | lusambo\n",
      "Processing Record 38 of Set 7 | ekhabi\n",
      "Processing Record 39 of Set 7 | umea\n",
      "Processing Record 40 of Set 7 | kalmunai\n",
      "Processing Record 41 of Set 7 | upata\n",
      "Processing Record 42 of Set 7 | brae\n",
      "Processing Record 43 of Set 7 | conakry\n",
      "Processing Record 44 of Set 7 | remanso\n",
      "Processing Record 45 of Set 7 | yialos\n",
      "City not found. Skipping...\n",
      "Processing Record 46 of Set 7 | baykit\n",
      "Processing Record 47 of Set 7 | ponta do sol\n",
      "Processing Record 48 of Set 7 | amapa\n",
      "Processing Record 49 of Set 7 | sheltozero\n",
      "Processing Record 0 of Set 8 | vokhma\n",
      "Processing Record 1 of Set 8 | coahuayana\n",
      "Processing Record 2 of Set 8 | xingyi\n",
      "Processing Record 3 of Set 8 | damghan\n",
      "Processing Record 4 of Set 8 | brezice\n",
      "Processing Record 5 of Set 8 | ures\n",
      "Processing Record 6 of Set 8 | port lincoln\n",
      "Processing Record 7 of Set 8 | umzimvubu\n",
      "City not found. Skipping...\n",
      "Processing Record 8 of Set 8 | nelson bay\n",
      "Processing Record 9 of Set 8 | duns\n",
      "Processing Record 10 of Set 8 | tuatapere\n",
      "Processing Record 11 of Set 8 | garissa\n",
      "Processing Record 12 of Set 8 | jalu\n",
      "Processing Record 13 of Set 8 | avarua\n",
      "Processing Record 14 of Set 8 | solovetskiy\n",
      "City not found. Skipping...\n",
      "Processing Record 15 of Set 8 | sao joao da barra\n",
      "Processing Record 16 of Set 8 | romny\n",
      "Processing Record 17 of Set 8 | jacareacanga\n",
      "Processing Record 18 of Set 8 | kamenka\n",
      "Processing Record 19 of Set 8 | riyadh\n",
      "Processing Record 20 of Set 8 | witu\n",
      "Processing Record 21 of Set 8 | cambridge\n",
      "Processing Record 22 of Set 8 | balad\n",
      "Processing Record 23 of Set 8 | puerto rico\n",
      "Processing Record 24 of Set 8 | sucua\n",
      "Processing Record 25 of Set 8 | maku\n"
     ]
    },
    {
     "name": "stdout",
     "output_type": "stream",
     "text": [
      "Processing Record 26 of Set 8 | jucas\n",
      "Processing Record 27 of Set 8 | pescara\n",
      "Processing Record 28 of Set 8 | lianyuan\n",
      "Processing Record 29 of Set 8 | deputatskiy\n",
      "Processing Record 30 of Set 8 | konibodom\n",
      "Processing Record 31 of Set 8 | saldanha\n",
      "Processing Record 32 of Set 8 | saryshagan\n",
      "City not found. Skipping...\n",
      "Processing Record 33 of Set 8 | kushikino\n",
      "Processing Record 34 of Set 8 | san cristobal\n",
      "Processing Record 35 of Set 8 | avera\n",
      "Processing Record 36 of Set 8 | ahipara\n",
      "Processing Record 37 of Set 8 | kysyl-syr\n",
      "Processing Record 38 of Set 8 | port augusta\n",
      "Processing Record 39 of Set 8 | najran\n",
      "Processing Record 40 of Set 8 | rabat\n",
      "Processing Record 41 of Set 8 | nemuro\n",
      "Processing Record 42 of Set 8 | visnes\n",
      "Processing Record 43 of Set 8 | hamilton\n",
      "Processing Record 44 of Set 8 | zhuhai\n",
      "Processing Record 45 of Set 8 | pinawa\n",
      "Processing Record 46 of Set 8 | nandikotkur\n",
      "Processing Record 47 of Set 8 | mapastepec\n",
      "Processing Record 48 of Set 8 | kompaniyivka\n",
      "Processing Record 49 of Set 8 | margate\n",
      "Processing Record 0 of Set 9 | murgab\n",
      "Processing Record 1 of Set 9 | volksrust\n",
      "Processing Record 2 of Set 9 | waingapu\n",
      "Processing Record 3 of Set 9 | trinidad\n",
      "Processing Record 4 of Set 9 | halalo\n",
      "City not found. Skipping...\n",
      "Processing Record 5 of Set 9 | hokitika\n",
      "Processing Record 6 of Set 9 | itatiaia\n",
      "Processing Record 7 of Set 9 | abu samrah\n",
      "Processing Record 8 of Set 9 | cabo san lucas\n",
      "Processing Record 9 of Set 9 | borogontsy\n",
      "Processing Record 10 of Set 9 | jackson\n",
      "Processing Record 11 of Set 9 | boguchany\n",
      "Processing Record 12 of Set 9 | novoilinsk\n",
      "Processing Record 13 of Set 9 | bilibino\n",
      "Processing Record 14 of Set 9 | saint anthony\n",
      "Processing Record 15 of Set 9 | chacabuco\n",
      "Processing Record 16 of Set 9 | clyde river\n",
      "Processing Record 17 of Set 9 | oxford\n",
      "Processing Record 18 of Set 9 | robertsport\n",
      "Processing Record 19 of Set 9 | terrasini\n",
      "Processing Record 20 of Set 9 | palabuhanratu\n",
      "City not found. Skipping...\n",
      "Processing Record 21 of Set 9 | freeport\n",
      "Processing Record 22 of Set 9 | kachug\n",
      "Processing Record 23 of Set 9 | gamba\n",
      "Processing Record 24 of Set 9 | pavilosta\n",
      "Processing Record 25 of Set 9 | ketchikan\n",
      "Processing Record 26 of Set 9 | bucerias\n",
      "Processing Record 27 of Set 9 | olafsvik\n",
      "Processing Record 28 of Set 9 | sobolevo\n",
      "Processing Record 29 of Set 9 | menongue\n",
      "Processing Record 30 of Set 9 | sarangani\n",
      "Processing Record 31 of Set 9 | kutum\n",
      "Processing Record 32 of Set 9 | hirara\n",
      "Processing Record 33 of Set 9 | cabinda\n",
      "Processing Record 34 of Set 9 | dingle\n",
      "Processing Record 35 of Set 9 | semirom\n",
      "Processing Record 36 of Set 9 | dengzhou\n",
      "Processing Record 37 of Set 9 | hervey bay\n",
      "Processing Record 38 of Set 9 | marawi\n",
      "Processing Record 39 of Set 9 | tacuarembo\n",
      "Processing Record 40 of Set 9 | hohhot\n",
      "Processing Record 41 of Set 9 | portland\n",
      "Processing Record 42 of Set 9 | abbeville\n",
      "Processing Record 43 of Set 9 | sao domingos\n",
      "Processing Record 44 of Set 9 | guerande\n",
      "Processing Record 45 of Set 9 | saint-joseph\n",
      "Processing Record 46 of Set 9 | kadoma\n",
      "Processing Record 47 of Set 9 | kabompo\n",
      "Processing Record 48 of Set 9 | alice springs\n",
      "Processing Record 49 of Set 9 | broome\n",
      "Processing Record 0 of Set 10 | filingue\n",
      "Processing Record 1 of Set 10 | mao\n",
      "Processing Record 2 of Set 10 | katsuura\n",
      "Processing Record 3 of Set 10 | vryburg\n",
      "Processing Record 4 of Set 10 | carnarvon\n",
      "Processing Record 5 of Set 10 | basco\n",
      "Processing Record 6 of Set 10 | sapa\n",
      "Processing Record 7 of Set 10 | porto murtinho\n",
      "Processing Record 8 of Set 10 | louisbourg\n",
      "City not found. Skipping...\n",
      "Processing Record 9 of Set 10 | motril\n",
      "Processing Record 10 of Set 10 | karaul\n",
      "City not found. Skipping...\n",
      "Processing Record 11 of Set 10 | narsaq\n",
      "Processing Record 12 of Set 10 | solnechnyy\n",
      "Processing Record 13 of Set 10 | samarai\n",
      "Processing Record 14 of Set 10 | palmer\n",
      "Processing Record 15 of Set 10 | santiago\n",
      "Processing Record 16 of Set 10 | acajutla\n",
      "Processing Record 17 of Set 10 | walvis bay\n",
      "Processing Record 18 of Set 10 | khorixas\n",
      "Processing Record 19 of Set 10 | lampa\n",
      "Processing Record 20 of Set 10 | saleaula\n",
      "City not found. Skipping...\n",
      "Processing Record 21 of Set 10 | shingu\n",
      "Processing Record 22 of Set 10 | raudeberg\n",
      "Processing Record 23 of Set 10 | troitskoye\n",
      "Processing Record 24 of Set 10 | bukachacha\n",
      "Processing Record 25 of Set 10 | kapoeta\n",
      "Processing Record 26 of Set 10 | christchurch\n",
      "Processing Record 27 of Set 10 | inongo\n",
      "Processing Record 28 of Set 10 | xudat\n",
      "Processing Record 29 of Set 10 | mundo nuevo\n",
      "Processing Record 30 of Set 10 | north platte\n",
      "Processing Record 31 of Set 10 | tabas\n",
      "Processing Record 32 of Set 10 | roald\n",
      "Processing Record 33 of Set 10 | eganville\n",
      "Processing Record 34 of Set 10 | dunedin\n",
      "Processing Record 35 of Set 10 | kitimat\n",
      "Processing Record 36 of Set 10 | chicama\n",
      "Processing Record 37 of Set 10 | marsabit\n",
      "Processing Record 38 of Set 10 | meulaboh\n",
      "Processing Record 39 of Set 10 | miyang\n",
      "Processing Record 40 of Set 10 | longlac\n",
      "City not found. Skipping...\n",
      "Processing Record 41 of Set 10 | texarkana\n",
      "Processing Record 42 of Set 10 | cidreira\n",
      "Processing Record 43 of Set 10 | donnacona\n",
      "Processing Record 44 of Set 10 | mugumu\n",
      "Processing Record 45 of Set 10 | college\n",
      "Processing Record 46 of Set 10 | alyangula\n",
      "Processing Record 47 of Set 10 | pierre\n",
      "Processing Record 48 of Set 10 | sidney\n",
      "Processing Record 49 of Set 10 | kautokeino\n",
      "Processing Record 0 of Set 11 | tornio\n",
      "Processing Record 1 of Set 11 | ciro marina\n",
      "Processing Record 2 of Set 11 | ngukurr\n",
      "City not found. Skipping...\n",
      "Processing Record 3 of Set 11 | macaubas\n",
      "Processing Record 4 of Set 11 | petropavlovsk-kamchatskiy\n",
      "Processing Record 5 of Set 11 | berberati\n",
      "Processing Record 6 of Set 11 | canela\n",
      "Processing Record 7 of Set 11 | komsomolskiy\n",
      "Processing Record 8 of Set 11 | yerbogachen\n",
      "Processing Record 9 of Set 11 | sychevka\n",
      "Processing Record 10 of Set 11 | kalianget\n",
      "Processing Record 11 of Set 11 | swan hill\n",
      "Processing Record 12 of Set 11 | geraldton\n",
      "Processing Record 13 of Set 11 | edgewater\n",
      "Processing Record 14 of Set 11 | verkhoyansk\n",
      "Processing Record 15 of Set 11 | kusk\n",
      "City not found. Skipping...\n",
      "Processing Record 16 of Set 11 | labuhan\n",
      "Processing Record 17 of Set 11 | puerto quijarro\n",
      "Processing Record 18 of Set 11 | kuusamo\n",
      "Processing Record 19 of Set 11 | great yarmouth\n",
      "Processing Record 20 of Set 11 | aykhal\n",
      "Processing Record 21 of Set 11 | koson\n",
      "Processing Record 22 of Set 11 | lindi\n",
      "Processing Record 23 of Set 11 | flinders\n",
      "Processing Record 24 of Set 11 | santa eulalia del rio\n",
      "City not found. Skipping...\n",
      "Processing Record 25 of Set 11 | chumikan\n",
      "Processing Record 26 of Set 11 | poum\n",
      "Processing Record 27 of Set 11 | krasnyy\n",
      "Processing Record 28 of Set 11 | kieta\n",
      "Processing Record 29 of Set 11 | hare bay\n",
      "Processing Record 30 of Set 11 | longyearbyen\n",
      "Processing Record 31 of Set 11 | paracuru\n",
      "Processing Record 32 of Set 11 | puerto leguizamo\n",
      "Processing Record 33 of Set 11 | meiganga\n",
      "Processing Record 34 of Set 11 | north bend\n",
      "Processing Record 35 of Set 11 | rodez\n",
      "Processing Record 36 of Set 11 | sukhobuzimskoye\n",
      "Processing Record 37 of Set 11 | faya\n",
      "Processing Record 38 of Set 11 | vardo\n",
      "Processing Record 39 of Set 11 | necochea\n",
      "Processing Record 40 of Set 11 | barra do corda\n",
      "Processing Record 41 of Set 11 | douai\n",
      "Processing Record 42 of Set 11 | birao\n",
      "Processing Record 43 of Set 11 | miri\n",
      "Processing Record 44 of Set 11 | san rafael\n",
      "Processing Record 45 of Set 11 | mailani\n",
      "Processing Record 46 of Set 11 | sinnamary\n",
      "Processing Record 47 of Set 11 | banjarmasin\n",
      "Processing Record 48 of Set 11 | varna\n",
      "Processing Record 49 of Set 11 | fiumicino\n",
      "Processing Record 0 of Set 12 | sudislavl\n",
      "Processing Record 1 of Set 12 | matay\n",
      "Processing Record 2 of Set 12 | wlingi\n",
      "Processing Record 3 of Set 12 | krasnyy klyuch\n",
      "Processing Record 4 of Set 12 | aksu\n",
      "Processing Record 5 of Set 12 | carauari\n",
      "Processing Record 6 of Set 12 | codajas\n",
      "Processing Record 7 of Set 12 | sept-iles\n",
      "Processing Record 8 of Set 12 | myskhako\n",
      "Processing Record 9 of Set 12 | mrirt\n",
      "City not found. Skipping...\n",
      "Processing Record 10 of Set 12 | bongandanga\n",
      "Processing Record 11 of Set 12 | mabaruma\n",
      "Processing Record 12 of Set 12 | bosaso\n",
      "Processing Record 13 of Set 12 | alappuzha\n",
      "Processing Record 14 of Set 12 | brufut\n",
      "Processing Record 15 of Set 12 | pitogo\n"
     ]
    },
    {
     "name": "stdout",
     "output_type": "stream",
     "text": [
      "Processing Record 16 of Set 12 | sayyan\n",
      "Processing Record 17 of Set 12 | aktau\n",
      "Processing Record 18 of Set 12 | kokopo\n",
      "Processing Record 19 of Set 12 | msanga\n",
      "Processing Record 20 of Set 12 | bandarbeyla\n",
      "Processing Record 21 of Set 12 | morant bay\n",
      "Processing Record 22 of Set 12 | satitoa\n",
      "City not found. Skipping...\n",
      "Processing Record 23 of Set 12 | maracas\n",
      "Processing Record 24 of Set 12 | banamba\n",
      "Processing Record 25 of Set 12 | quatre cocos\n",
      "Processing Record 26 of Set 12 | antigonish\n",
      "Processing Record 27 of Set 12 | indiaroba\n",
      "Processing Record 28 of Set 12 | fillan\n",
      "Processing Record 29 of Set 12 | rio claro\n",
      "Processing Record 30 of Set 12 | omsukchan\n",
      "Processing Record 31 of Set 12 | remontnoye\n",
      "Processing Record 32 of Set 12 | bubaque\n",
      "Processing Record 33 of Set 12 | saint-pierre\n",
      "Processing Record 34 of Set 12 | mogochin\n",
      "City not found. Skipping...\n",
      "Processing Record 35 of Set 12 | umm lajj\n",
      "Processing Record 36 of Set 12 | antofagasta\n",
      "Processing Record 37 of Set 12 | talnakh\n",
      "Processing Record 38 of Set 12 | byron bay\n",
      "Processing Record 39 of Set 12 | nalut\n",
      "Processing Record 40 of Set 12 | pudozh\n",
      "Processing Record 41 of Set 12 | zhangjiakou\n",
      "Processing Record 42 of Set 12 | angoche\n",
      "Processing Record 43 of Set 12 | garowe\n",
      "Processing Record 44 of Set 12 | pervomayskoye\n",
      "Processing Record 45 of Set 12 | maniitsoq\n",
      "Processing Record 46 of Set 12 | markala\n",
      "Processing Record 47 of Set 12 | shanting\n",
      "Processing Record 48 of Set 12 | lerwick\n",
      "Processing Record 49 of Set 12 | honiara\n",
      "Processing Record 0 of Set 13 | uruzgan\n",
      "Processing Record 1 of Set 13 | westport\n",
      "Processing Record 2 of Set 13 | roebourne\n",
      "-----------------------------\n",
      "Data Retrieval Complete      \n",
      "-----------------------------\n"
     ]
    }
   ],
   "source": [
    "# Set the API base URL\n",
    "url = \"https://api.openweathermap.org/data/2.5/weather?\"\n",
    "\n",
    "# Define an empty list to fetch the weather data for each city\n",
    "city_data = []\n",
    "\n",
    "# Print to logger\n",
    "print(\"Beginning Data Retrieval     \")\n",
    "print(\"-----------------------------\")\n",
    "\n",
    "# Create counters\n",
    "record_count = 1\n",
    "set_count = 1\n",
    "\n",
    "# Loop through all the cities in our list to fetch weather data\n",
    "for i, city in enumerate(cities):\n",
    "        \n",
    "    # Group cities in sets of 50 for logging purposes\n",
    "    if (i % 50 == 0 and i >= 50):\n",
    "        set_count += 1\n",
    "        record_count = 0\n",
    "\n",
    "    # Create endpoint URL with each city\n",
    "    city_url = url + \"appid=\" + weather_api_key + \"&q=\" + city\n",
    "    \n",
    "    # Log the url, record, and set numbers\n",
    "    print(\"Processing Record %s of Set %s | %s\" % (record_count, set_count, city))\n",
    "\n",
    "    # Add 1 to the record count\n",
    "    record_count += 1\n",
    "\n",
    "    # Run an API request for each of the cities\n",
    "    try:\n",
    "        # Parse the JSON and retrieve data\n",
    "        city_weather = city_url\n",
    "        #added this code(from lesson 6.2)\n",
    "        weather_response = requests.get(city_weather)\n",
    "        weather_json = weather_response.json()\n",
    "\n",
    "\n",
    "        # Parse out latitude, longitude, max temp, humidity, cloudiness, wind speed, country, and date\n",
    "        city_lat = weather_json[\"coord\"][\"lat\"]\n",
    "        city_lng = weather_json[\"coord\"][\"lon\"]\n",
    "        city_max_temp = weather_json[\"main\"][\"temp_max\"]\n",
    "        city_humidity = weather_json[\"main\"][\"humidity\"]\n",
    "        city_clouds = weather_json[\"clouds\"][\"all\"]\n",
    "        city_wind = weather_json[\"wind\"][\"speed\"]\n",
    "        city_country = weather_json[\"sys\"][\"country\"]\n",
    "        city_date = weather_json[\"dt\"]\n",
    "\n",
    "        # Append the City information into city_data list\n",
    "        city_data.append({\"City\": city, \n",
    "                          \"Lat\": city_lat, \n",
    "                          \"Lng\": city_lng, \n",
    "                          \"Max Temp\": city_max_temp,\n",
    "                          \"Humidity\": city_humidity,\n",
    "                          \"Cloudiness\": city_clouds,\n",
    "                          \"Wind Speed\": city_wind,\n",
    "                          \"Country\": city_country,\n",
    "                          \"Date\": city_date})\n",
    "\n",
    "    # If an error is experienced, skip the city\n",
    "    except:\n",
    "        print(\"City not found. Skipping...\")\n",
    "        pass\n",
    "              \n",
    "# Indicate that Data Loading is complete \n",
    "print(\"-----------------------------\")\n",
    "print(\"Data Retrieval Complete      \")\n",
    "print(\"-----------------------------\")"
   ]
  },
  {
   "cell_type": "code",
   "execution_count": 23,
   "metadata": {
    "scrolled": true
   },
   "outputs": [
    {
     "data": {
      "text/plain": [
       "City          557\n",
       "Lat           557\n",
       "Lng           557\n",
       "Max Temp      557\n",
       "Humidity      557\n",
       "Cloudiness    557\n",
       "Wind Speed    557\n",
       "Country       557\n",
       "Date          557\n",
       "dtype: int64"
      ]
     },
     "execution_count": 23,
     "metadata": {},
     "output_type": "execute_result"
    }
   ],
   "source": [
    "# Convert the cities weather data into a Pandas DataFrame\n",
    "city_data_df = pd.DataFrame(city_data)\n",
    "\n",
    "# Show Record Count\n",
    "city_data_df.count()"
   ]
  },
  {
   "cell_type": "code",
   "execution_count": 24,
   "metadata": {},
   "outputs": [
    {
     "data": {
      "text/html": [
       "<div>\n",
       "<style scoped>\n",
       "    .dataframe tbody tr th:only-of-type {\n",
       "        vertical-align: middle;\n",
       "    }\n",
       "\n",
       "    .dataframe tbody tr th {\n",
       "        vertical-align: top;\n",
       "    }\n",
       "\n",
       "    .dataframe thead th {\n",
       "        text-align: right;\n",
       "    }\n",
       "</style>\n",
       "<table border=\"1\" class=\"dataframe\">\n",
       "  <thead>\n",
       "    <tr style=\"text-align: right;\">\n",
       "      <th></th>\n",
       "      <th>City</th>\n",
       "      <th>Lat</th>\n",
       "      <th>Lng</th>\n",
       "      <th>Humidity</th>\n",
       "      <th>Cloudiness</th>\n",
       "      <th>Wind Speed</th>\n",
       "      <th>Country</th>\n",
       "      <th>Date</th>\n",
       "      <th>Max Temp Celsius</th>\n",
       "    </tr>\n",
       "  </thead>\n",
       "  <tbody>\n",
       "    <tr>\n",
       "      <th>0</th>\n",
       "      <td>ilulissat</td>\n",
       "      <td>69.2167</td>\n",
       "      <td>-51.1000</td>\n",
       "      <td>93</td>\n",
       "      <td>75</td>\n",
       "      <td>2.06</td>\n",
       "      <td>GL</td>\n",
       "      <td>1687599345</td>\n",
       "      <td>2.16</td>\n",
       "    </tr>\n",
       "    <tr>\n",
       "      <th>1</th>\n",
       "      <td>alexandria</td>\n",
       "      <td>31.2156</td>\n",
       "      <td>29.9553</td>\n",
       "      <td>50</td>\n",
       "      <td>0</td>\n",
       "      <td>4.20</td>\n",
       "      <td>EG</td>\n",
       "      <td>1687599105</td>\n",
       "      <td>28.73</td>\n",
       "    </tr>\n",
       "    <tr>\n",
       "      <th>2</th>\n",
       "      <td>kavieng</td>\n",
       "      <td>-2.5744</td>\n",
       "      <td>150.7967</td>\n",
       "      <td>77</td>\n",
       "      <td>41</td>\n",
       "      <td>1.78</td>\n",
       "      <td>PG</td>\n",
       "      <td>1687599346</td>\n",
       "      <td>27.35</td>\n",
       "    </tr>\n",
       "    <tr>\n",
       "      <th>3</th>\n",
       "      <td>new norfolk</td>\n",
       "      <td>-42.7826</td>\n",
       "      <td>147.0587</td>\n",
       "      <td>80</td>\n",
       "      <td>100</td>\n",
       "      <td>0.88</td>\n",
       "      <td>AU</td>\n",
       "      <td>1687599348</td>\n",
       "      <td>8.43</td>\n",
       "    </tr>\n",
       "    <tr>\n",
       "      <th>4</th>\n",
       "      <td>moerai</td>\n",
       "      <td>-22.4333</td>\n",
       "      <td>-151.3333</td>\n",
       "      <td>85</td>\n",
       "      <td>100</td>\n",
       "      <td>5.50</td>\n",
       "      <td>PF</td>\n",
       "      <td>1687599349</td>\n",
       "      <td>24.86</td>\n",
       "    </tr>\n",
       "  </tbody>\n",
       "</table>\n",
       "</div>"
      ],
      "text/plain": [
       "          City      Lat       Lng  Humidity  Cloudiness  Wind Speed Country  \\\n",
       "0    ilulissat  69.2167  -51.1000        93          75        2.06      GL   \n",
       "1   alexandria  31.2156   29.9553        50           0        4.20      EG   \n",
       "2      kavieng  -2.5744  150.7967        77          41        1.78      PG   \n",
       "3  new norfolk -42.7826  147.0587        80         100        0.88      AU   \n",
       "4       moerai -22.4333 -151.3333        85         100        5.50      PF   \n",
       "\n",
       "         Date  Max Temp Celsius  \n",
       "0  1687599345              2.16  \n",
       "1  1687599105             28.73  \n",
       "2  1687599346             27.35  \n",
       "3  1687599348              8.43  \n",
       "4  1687599349             24.86  "
      ]
     },
     "execution_count": 24,
     "metadata": {},
     "output_type": "execute_result"
    }
   ],
   "source": [
    "#convert max temp from Kelvin to Celsius\n",
    "city_df = city_data_df.copy()\n",
    "city_df[\"Max Temp Celsius\"] = city_df[\"Max Temp\"]-273\n",
    "city_df = city_df.drop([\"Max Temp\"], axis=1)\n",
    "# Display sample data\n",
    "city_df.head()"
   ]
  },
  {
   "cell_type": "code",
   "execution_count": 25,
   "metadata": {},
   "outputs": [],
   "source": [
    "# Export the City_Data into a csv\n",
    "city_df.to_csv(\"output_data/cities.csv\", index_label=\"City_ID\")"
   ]
  },
  {
   "cell_type": "code",
   "execution_count": 26,
   "metadata": {
    "scrolled": true
   },
   "outputs": [
    {
     "data": {
      "text/html": [
       "<div>\n",
       "<style scoped>\n",
       "    .dataframe tbody tr th:only-of-type {\n",
       "        vertical-align: middle;\n",
       "    }\n",
       "\n",
       "    .dataframe tbody tr th {\n",
       "        vertical-align: top;\n",
       "    }\n",
       "\n",
       "    .dataframe thead th {\n",
       "        text-align: right;\n",
       "    }\n",
       "</style>\n",
       "<table border=\"1\" class=\"dataframe\">\n",
       "  <thead>\n",
       "    <tr style=\"text-align: right;\">\n",
       "      <th></th>\n",
       "      <th>City</th>\n",
       "      <th>Lat</th>\n",
       "      <th>Lng</th>\n",
       "      <th>Humidity</th>\n",
       "      <th>Cloudiness</th>\n",
       "      <th>Wind Speed</th>\n",
       "      <th>Country</th>\n",
       "      <th>Date</th>\n",
       "      <th>Max Temp Celsius</th>\n",
       "    </tr>\n",
       "    <tr>\n",
       "      <th>City_ID</th>\n",
       "      <th></th>\n",
       "      <th></th>\n",
       "      <th></th>\n",
       "      <th></th>\n",
       "      <th></th>\n",
       "      <th></th>\n",
       "      <th></th>\n",
       "      <th></th>\n",
       "      <th></th>\n",
       "    </tr>\n",
       "  </thead>\n",
       "  <tbody>\n",
       "    <tr>\n",
       "      <th>0</th>\n",
       "      <td>ilulissat</td>\n",
       "      <td>69.2167</td>\n",
       "      <td>-51.1000</td>\n",
       "      <td>93</td>\n",
       "      <td>75</td>\n",
       "      <td>2.06</td>\n",
       "      <td>GL</td>\n",
       "      <td>1687599345</td>\n",
       "      <td>2.16</td>\n",
       "    </tr>\n",
       "    <tr>\n",
       "      <th>1</th>\n",
       "      <td>alexandria</td>\n",
       "      <td>31.2156</td>\n",
       "      <td>29.9553</td>\n",
       "      <td>50</td>\n",
       "      <td>0</td>\n",
       "      <td>4.20</td>\n",
       "      <td>EG</td>\n",
       "      <td>1687599105</td>\n",
       "      <td>28.73</td>\n",
       "    </tr>\n",
       "    <tr>\n",
       "      <th>2</th>\n",
       "      <td>kavieng</td>\n",
       "      <td>-2.5744</td>\n",
       "      <td>150.7967</td>\n",
       "      <td>77</td>\n",
       "      <td>41</td>\n",
       "      <td>1.78</td>\n",
       "      <td>PG</td>\n",
       "      <td>1687599346</td>\n",
       "      <td>27.35</td>\n",
       "    </tr>\n",
       "    <tr>\n",
       "      <th>3</th>\n",
       "      <td>new norfolk</td>\n",
       "      <td>-42.7826</td>\n",
       "      <td>147.0587</td>\n",
       "      <td>80</td>\n",
       "      <td>100</td>\n",
       "      <td>0.88</td>\n",
       "      <td>AU</td>\n",
       "      <td>1687599348</td>\n",
       "      <td>8.43</td>\n",
       "    </tr>\n",
       "    <tr>\n",
       "      <th>4</th>\n",
       "      <td>moerai</td>\n",
       "      <td>-22.4333</td>\n",
       "      <td>-151.3333</td>\n",
       "      <td>85</td>\n",
       "      <td>100</td>\n",
       "      <td>5.50</td>\n",
       "      <td>PF</td>\n",
       "      <td>1687599349</td>\n",
       "      <td>24.86</td>\n",
       "    </tr>\n",
       "  </tbody>\n",
       "</table>\n",
       "</div>"
      ],
      "text/plain": [
       "                City      Lat       Lng  Humidity  Cloudiness  Wind Speed  \\\n",
       "City_ID                                                                     \n",
       "0          ilulissat  69.2167  -51.1000        93          75        2.06   \n",
       "1         alexandria  31.2156   29.9553        50           0        4.20   \n",
       "2            kavieng  -2.5744  150.7967        77          41        1.78   \n",
       "3        new norfolk -42.7826  147.0587        80         100        0.88   \n",
       "4             moerai -22.4333 -151.3333        85         100        5.50   \n",
       "\n",
       "        Country        Date  Max Temp Celsius  \n",
       "City_ID                                        \n",
       "0            GL  1687599345              2.16  \n",
       "1            EG  1687599105             28.73  \n",
       "2            PG  1687599346             27.35  \n",
       "3            AU  1687599348              8.43  \n",
       "4            PF  1687599349             24.86  "
      ]
     },
     "execution_count": 26,
     "metadata": {},
     "output_type": "execute_result"
    }
   ],
   "source": [
    "# Read saved data\n",
    "city_df = pd.read_csv(\"output_data/cities.csv\", index_col=\"City_ID\")\n",
    "\n",
    "# Display sample data\n",
    "city_df.head()"
   ]
  },
  {
   "cell_type": "markdown",
   "metadata": {},
   "source": [
    "### Create the Scatter Plots Requested\n",
    "\n",
    "#### Latitude Vs. Temperature"
   ]
  },
  {
   "cell_type": "code",
   "execution_count": 27,
   "metadata": {
    "tags": []
   },
   "outputs": [
    {
     "data": {
      "image/png": "[encoded data removed]",
      "text/plain": [
       "<Figure size 432x288 with 1 Axes>"
      ]
     },
     "metadata": {
      "needs_background": "light"
     },
     "output_type": "display_data"
    }
   ],
   "source": [
    "# Build scatter plot for latitude vs. temperature\n",
    "#used module 6.2 Activity 5, for alike examples\n",
    "plt.scatter(city_df[\"Lat\"], city_df[\"Max Temp Celsius\"], marker=0)\n",
    "\n",
    "# Incorporate the other graph properties\n",
    "plt.title(\"Temperature in Cities by Latitude\")\n",
    "plt.ylabel(\"Temperature (Celsius)\")\n",
    "plt.xlabel(\"Latitude\")\n",
    "plt.grid(True)\n",
    "\n",
    "# Save the figure\n",
    "plt.savefig(\"output_data/Fig1.png\")\n",
    "\n",
    "# Show plot\n",
    "plt.show()"
   ]
  },
  {
   "cell_type": "markdown",
   "metadata": {},
   "source": [
    "#### Latitude Vs. Humidity"
   ]
  },
  {
   "cell_type": "code",
   "execution_count": 28,
   "metadata": {},
   "outputs": [
    {
     "data": {
      "image/png": "[encoded data removed]",
      "text/plain": [
       "<Figure size 432x288 with 1 Axes>"
      ]
     },
     "metadata": {
      "needs_background": "light"
     },
     "output_type": "display_data"
    }
   ],
   "source": [
    "# Build the scatter plots for latitude vs. humidity\n",
    "plt.scatter(city_df[\"Lat\"], city_df[\"Humidity\"], marker=0)\n",
    "\n",
    "# Incorporate the other graph properties\n",
    "plt.title(\"Humidity in Cities by Latitude\")\n",
    "plt.ylabel(\"Humidity\")\n",
    "plt.xlabel(\"Latitude\")\n",
    "plt.grid(True)\n",
    "# Save the figure\n",
    "plt.savefig(\"output_data/Fig2.png\")\n",
    "\n",
    "# Show plot\n",
    "plt.show()"
   ]
  },
  {
   "cell_type": "markdown",
   "metadata": {},
   "source": [
    "#### Latitude Vs. Cloudiness"
   ]
  },
  {
   "cell_type": "code",
   "execution_count": 29,
   "metadata": {},
   "outputs": [
    {
     "data": {
      "image/png": "[encoded data removed]",
      "text/plain": [
       "<Figure size 432x288 with 1 Axes>"
      ]
     },
     "metadata": {
      "needs_background": "light"
     },
     "output_type": "display_data"
    }
   ],
   "source": [
    "#Build the scatter plots for latitude vs. cloudiness\n",
    "plt.scatter(city_df[\"Lat\"], city_df[\"Cloudiness\"], marker=0)\n",
    "\n",
    "# Incorporate the other graph properties\n",
    "plt.title(\"Cloudiness in Cities by Latitude\")\n",
    "plt.ylabel(\"Cloudiness\")\n",
    "plt.xlabel(\"Latitude\")\n",
    "plt.grid(True)\n",
    "# Save the figure\n",
    "plt.savefig(\"output_data/Fig3.png\")\n",
    "\n",
    "# Show plot\n",
    "plt.show()"
   ]
  },
  {
   "cell_type": "markdown",
   "metadata": {},
   "source": [
    "#### Latitude vs. Wind Speed Plot"
   ]
  },
  {
   "cell_type": "code",
   "execution_count": 30,
   "metadata": {},
   "outputs": [
    {
     "data": {
      "image/png": "[encoded data removed]",
      "text/plain": [
       "<Figure size 432x288 with 1 Axes>"
      ]
     },
     "metadata": {
      "needs_background": "light"
     },
     "output_type": "display_data"
    }
   ],
   "source": [
    "# Build the scatter plots for latitude vs. wind speed\n",
    "plt.scatter(city_df[\"Lat\"], city_df[\"Wind Speed\"], marker=0)\n",
    "\n",
    "# Incorporate the other graph properties\n",
    "plt.title(\"Wind Speed (M/S) in Cities by Latitude\")\n",
    "plt.ylabel(\"Wind Speed(m/s)\")\n",
    "plt.xlabel(\"Latitude\")\n",
    "plt.grid(True)\n",
    "# Save the figure\n",
    "plt.savefig(\"output_data/Fig4.png\")\n",
    "\n",
    "# Show plot\n",
    "plt.show()"
   ]
  },
  {
   "cell_type": "markdown",
   "metadata": {},
   "source": [
    "---\n",
    "\n",
    "## Requirement 2: Compute Linear Regression for Each Relationship\n"
   ]
  },
  {
   "cell_type": "code",
   "execution_count": 31,
   "metadata": {},
   "outputs": [],
   "source": [
    "# Define a function to create Linear Regression plots\n",
    "def regression_plots(x,y):\n",
    "    #use linregress function\n",
    "    slope, intercept, rvalue, pvalue, stderr = linregress(x, y)\n",
    "    #regression line\n",
    "    regress_values = x * slope + intercept\n",
    "    #the line equation in variable to show\n",
    "    line_eq = \"y = \" + str(round(slope,2)) + \"x + \" + str(round(intercept,2))\n",
    "    #plot\n",
    "    plt.scatter(x,y)\n",
    "    plt.plot(x,regress_values,\"r-\")\n",
    "    print (f\"The slope of the line is {line_eq}\")\n",
    "    print (f\"The r-value/correlation of this graph is {rvalue}\")\n",
    "    plt.xlabel(\"Latitude\")\n",
    "    plt.show()\n",
    "    #plt.ylabel will be defined within each cell since y changes with each graph\n",
    "#module 5.3 activity 8 contains good nuggets of info"
   ]
  },
  {
   "cell_type": "code",
   "execution_count": 32,
   "metadata": {},
   "outputs": [
    {
     "data": {
      "text/html": [
       "<div>\n",
       "<style scoped>\n",
       "    .dataframe tbody tr th:only-of-type {\n",
       "        vertical-align: middle;\n",
       "    }\n",
       "\n",
       "    .dataframe tbody tr th {\n",
       "        vertical-align: top;\n",
       "    }\n",
       "\n",
       "    .dataframe thead th {\n",
       "        text-align: right;\n",
       "    }\n",
       "</style>\n",
       "<table border=\"1\" class=\"dataframe\">\n",
       "  <thead>\n",
       "    <tr style=\"text-align: right;\">\n",
       "      <th></th>\n",
       "      <th>City</th>\n",
       "      <th>Lat</th>\n",
       "      <th>Lng</th>\n",
       "      <th>Humidity</th>\n",
       "      <th>Cloudiness</th>\n",
       "      <th>Wind Speed</th>\n",
       "      <th>Country</th>\n",
       "      <th>Date</th>\n",
       "      <th>Max Temp Celsius</th>\n",
       "    </tr>\n",
       "    <tr>\n",
       "      <th>City_ID</th>\n",
       "      <th></th>\n",
       "      <th></th>\n",
       "      <th></th>\n",
       "      <th></th>\n",
       "      <th></th>\n",
       "      <th></th>\n",
       "      <th></th>\n",
       "      <th></th>\n",
       "      <th></th>\n",
       "    </tr>\n",
       "  </thead>\n",
       "  <tbody>\n",
       "    <tr>\n",
       "      <th>0</th>\n",
       "      <td>ilulissat</td>\n",
       "      <td>69.2167</td>\n",
       "      <td>-51.1000</td>\n",
       "      <td>93</td>\n",
       "      <td>75</td>\n",
       "      <td>2.06</td>\n",
       "      <td>GL</td>\n",
       "      <td>1687599345</td>\n",
       "      <td>2.16</td>\n",
       "    </tr>\n",
       "    <tr>\n",
       "      <th>1</th>\n",
       "      <td>alexandria</td>\n",
       "      <td>31.2156</td>\n",
       "      <td>29.9553</td>\n",
       "      <td>50</td>\n",
       "      <td>0</td>\n",
       "      <td>4.20</td>\n",
       "      <td>EG</td>\n",
       "      <td>1687599105</td>\n",
       "      <td>28.73</td>\n",
       "    </tr>\n",
       "    <tr>\n",
       "      <th>6</th>\n",
       "      <td>kodiak</td>\n",
       "      <td>57.7900</td>\n",
       "      <td>-152.4072</td>\n",
       "      <td>87</td>\n",
       "      <td>100</td>\n",
       "      <td>2.57</td>\n",
       "      <td>US</td>\n",
       "      <td>1687599350</td>\n",
       "      <td>10.88</td>\n",
       "    </tr>\n",
       "    <tr>\n",
       "      <th>8</th>\n",
       "      <td>dikson</td>\n",
       "      <td>73.5069</td>\n",
       "      <td>80.5464</td>\n",
       "      <td>88</td>\n",
       "      <td>11</td>\n",
       "      <td>4.53</td>\n",
       "      <td>RU</td>\n",
       "      <td>1687599351</td>\n",
       "      <td>0.86</td>\n",
       "    </tr>\n",
       "    <tr>\n",
       "      <th>9</th>\n",
       "      <td>pevek</td>\n",
       "      <td>69.7008</td>\n",
       "      <td>170.3133</td>\n",
       "      <td>98</td>\n",
       "      <td>63</td>\n",
       "      <td>2.92</td>\n",
       "      <td>RU</td>\n",
       "      <td>1687599353</td>\n",
       "      <td>0.55</td>\n",
       "    </tr>\n",
       "  </tbody>\n",
       "</table>\n",
       "</div>"
      ],
      "text/plain": [
       "               City      Lat       Lng  Humidity  Cloudiness  Wind Speed  \\\n",
       "City_ID                                                                    \n",
       "0         ilulissat  69.2167  -51.1000        93          75        2.06   \n",
       "1        alexandria  31.2156   29.9553        50           0        4.20   \n",
       "6            kodiak  57.7900 -152.4072        87         100        2.57   \n",
       "8            dikson  73.5069   80.5464        88          11        4.53   \n",
       "9             pevek  69.7008  170.3133        98          63        2.92   \n",
       "\n",
       "        Country        Date  Max Temp Celsius  \n",
       "City_ID                                        \n",
       "0            GL  1687599345              2.16  \n",
       "1            EG  1687599105             28.73  \n",
       "6            US  1687599350             10.88  \n",
       "8            RU  1687599351              0.86  \n",
       "9            RU  1687599353              0.55  "
      ]
     },
     "execution_count": 32,
     "metadata": {},
     "output_type": "execute_result"
    }
   ],
   "source": [
    "# Create a DataFrame with the Northern Hemisphere data (Latitude >= 0)\n",
    "northern_hemi_df = city_df[city_df[\"Lat\"]>0]\n",
    "\n",
    "# Display sample data\n",
    "northern_hemi_df.head()"
   ]
  },
  {
   "cell_type": "code",
   "execution_count": 33,
   "metadata": {},
   "outputs": [
    {
     "data": {
      "text/html": [
       "<div>\n",
       "<style scoped>\n",
       "    .dataframe tbody tr th:only-of-type {\n",
       "        vertical-align: middle;\n",
       "    }\n",
       "\n",
       "    .dataframe tbody tr th {\n",
       "        vertical-align: top;\n",
       "    }\n",
       "\n",
       "    .dataframe thead th {\n",
       "        text-align: right;\n",
       "    }\n",
       "</style>\n",
       "<table border=\"1\" class=\"dataframe\">\n",
       "  <thead>\n",
       "    <tr style=\"text-align: right;\">\n",
       "      <th></th>\n",
       "      <th>City</th>\n",
       "      <th>Lat</th>\n",
       "      <th>Lng</th>\n",
       "      <th>Humidity</th>\n",
       "      <th>Cloudiness</th>\n",
       "      <th>Wind Speed</th>\n",
       "      <th>Country</th>\n",
       "      <th>Date</th>\n",
       "      <th>Max Temp Celsius</th>\n",
       "    </tr>\n",
       "    <tr>\n",
       "      <th>City_ID</th>\n",
       "      <th></th>\n",
       "      <th></th>\n",
       "      <th></th>\n",
       "      <th></th>\n",
       "      <th></th>\n",
       "      <th></th>\n",
       "      <th></th>\n",
       "      <th></th>\n",
       "      <th></th>\n",
       "    </tr>\n",
       "  </thead>\n",
       "  <tbody>\n",
       "    <tr>\n",
       "      <th>2</th>\n",
       "      <td>kavieng</td>\n",
       "      <td>-2.5744</td>\n",
       "      <td>150.7967</td>\n",
       "      <td>77</td>\n",
       "      <td>41</td>\n",
       "      <td>1.78</td>\n",
       "      <td>PG</td>\n",
       "      <td>1687599346</td>\n",
       "      <td>27.35</td>\n",
       "    </tr>\n",
       "    <tr>\n",
       "      <th>3</th>\n",
       "      <td>new norfolk</td>\n",
       "      <td>-42.7826</td>\n",
       "      <td>147.0587</td>\n",
       "      <td>80</td>\n",
       "      <td>100</td>\n",
       "      <td>0.88</td>\n",
       "      <td>AU</td>\n",
       "      <td>1687599348</td>\n",
       "      <td>8.43</td>\n",
       "    </tr>\n",
       "    <tr>\n",
       "      <th>4</th>\n",
       "      <td>moerai</td>\n",
       "      <td>-22.4333</td>\n",
       "      <td>-151.3333</td>\n",
       "      <td>85</td>\n",
       "      <td>100</td>\n",
       "      <td>5.50</td>\n",
       "      <td>PF</td>\n",
       "      <td>1687599349</td>\n",
       "      <td>24.86</td>\n",
       "    </tr>\n",
       "    <tr>\n",
       "      <th>5</th>\n",
       "      <td>vaini</td>\n",
       "      <td>-21.2000</td>\n",
       "      <td>-175.2000</td>\n",
       "      <td>83</td>\n",
       "      <td>40</td>\n",
       "      <td>1.54</td>\n",
       "      <td>TO</td>\n",
       "      <td>1687599349</td>\n",
       "      <td>22.24</td>\n",
       "    </tr>\n",
       "    <tr>\n",
       "      <th>7</th>\n",
       "      <td>rikitea</td>\n",
       "      <td>-23.1203</td>\n",
       "      <td>-134.9692</td>\n",
       "      <td>65</td>\n",
       "      <td>100</td>\n",
       "      <td>8.28</td>\n",
       "      <td>PF</td>\n",
       "      <td>1687599351</td>\n",
       "      <td>21.58</td>\n",
       "    </tr>\n",
       "  </tbody>\n",
       "</table>\n",
       "</div>"
      ],
      "text/plain": [
       "                City      Lat       Lng  Humidity  Cloudiness  Wind Speed  \\\n",
       "City_ID                                                                     \n",
       "2            kavieng  -2.5744  150.7967        77          41        1.78   \n",
       "3        new norfolk -42.7826  147.0587        80         100        0.88   \n",
       "4             moerai -22.4333 -151.3333        85         100        5.50   \n",
       "5              vaini -21.2000 -175.2000        83          40        1.54   \n",
       "7            rikitea -23.1203 -134.9692        65         100        8.28   \n",
       "\n",
       "        Country        Date  Max Temp Celsius  \n",
       "City_ID                                        \n",
       "2            PG  1687599346             27.35  \n",
       "3            AU  1687599348              8.43  \n",
       "4            PF  1687599349             24.86  \n",
       "5            TO  1687599349             22.24  \n",
       "7            PF  1687599351             21.58  "
      ]
     },
     "execution_count": 33,
     "metadata": {},
     "output_type": "execute_result"
    }
   ],
   "source": [
    "# Create a DataFrame with the Southern Hemisphere data (Latitude < 0)\n",
    "southern_hemi_df = city_df[city_df[\"Lat\"]<0]\n",
    "\n",
    "# Display sample data\n",
    "southern_hemi_df.head()"
   ]
  },
  {
   "cell_type": "markdown",
   "metadata": {},
   "source": [
    "###  Temperature vs. Latitude Linear Regression Plot"
   ]
  },
  {
   "cell_type": "code",
   "execution_count": 34,
   "metadata": {},
   "outputs": [
    {
     "name": "stdout",
     "output_type": "stream",
     "text": [
      "The slope of the line is y = -0.29x + 34.31\n",
      "The r-value/correlation of this graph is -0.6456141770378276\n"
     ]
    },
    {
     "data": {
      "image/png": "[encoded data removed]",
      "text/plain": [
       "<Figure size 432x288 with 1 Axes>"
      ]
     },
     "metadata": {
      "needs_background": "light"
     },
     "output_type": "display_data"
    }
   ],
   "source": [
    "# Linear regression on Northern Hemisphere\n",
    "#for some reason the y label only works when I put it first in the code\n",
    "plt.ylabel(\"Temperature Celsius\")\n",
    "regression_plots(northern_hemi_df[\"Lat\"], northern_hemi_df[\"Max Temp Celsius\"])\n",
    "\n"
   ]
  },
  {
   "cell_type": "code",
   "execution_count": 35,
   "metadata": {},
   "outputs": [
    {
     "name": "stdout",
     "output_type": "stream",
     "text": [
      "The slope of the line is y = 0.41x + 27.77\n",
      "The r-value/correlation of this graph is 0.8222675908358966\n"
     ]
    },
    {
     "data": {
      "image/png": "[encoded data removed]",
      "text/plain": [
       "<Figure size 432x288 with 1 Axes>"
      ]
     },
     "metadata": {
      "needs_background": "light"
     },
     "output_type": "display_data"
    }
   ],
   "source": [
    "# Linear regression on Southern Hemisphere\n",
    "plt.ylabel(\"Temperature Celsius\")\n",
    "regression_plots(southern_hemi_df[\"Lat\"], southern_hemi_df[\"Max Temp Celsius\"])\n"
   ]
  },
  {
   "cell_type": "markdown",
   "metadata": {},
   "source": [
    "**Discussion about the linear relationship:** As expected as the latitude gets closer to zero (the equator is at latitude zero), the temperature gets hotter. If we look at how the earth rotates, the equator is constantly getting sun, regardless if its winter or summer, hence it will be relatively hot regardless of the season."
   ]
  },
  {
   "cell_type": "markdown",
   "metadata": {},
   "source": [
    "### Humidity vs. Latitude Linear Regression Plot"
   ]
  },
  {
   "cell_type": "code",
   "execution_count": 36,
   "metadata": {},
   "outputs": [
    {
     "name": "stdout",
     "output_type": "stream",
     "text": [
      "The slope of the line is y = 0.11x + 60.21\n",
      "The r-value/correlation of this graph is 0.08669199069635862\n"
     ]
    },
    {
     "data": {
      "image/png": "[encoded data removed]",
      "text/plain": [
       "<Figure size 432x288 with 1 Axes>"
      ]
     },
     "metadata": {
      "needs_background": "light"
     },
     "output_type": "display_data"
    }
   ],
   "source": [
    "# Northern Hemisphere\n",
    "plt.ylabel(\"Humidity\")\n",
    "regression_plots(northern_hemi_df[\"Lat\"], northern_hemi_df[\"Humidity\"])"
   ]
  },
  {
   "cell_type": "code",
   "execution_count": 37,
   "metadata": {},
   "outputs": [
    {
     "name": "stdout",
     "output_type": "stream",
     "text": [
      "The slope of the line is y = -0.32x + 65.07\n",
      "The r-value/correlation of this graph is -0.20584191489535816\n"
     ]
    },
    {
     "data": {
      "image/png": "[encoded data removed]",
      "text/plain": [
       "<Figure size 432x288 with 1 Axes>"
      ]
     },
     "metadata": {
      "needs_background": "light"
     },
     "output_type": "display_data"
    }
   ],
   "source": [
    "# Southern Hemisphere\n",
    "plt.ylabel(\"Humidity\")\n",
    "regression_plots(southern_hemi_df[\"Lat\"], southern_hemi_df[\"Humidity\"])"
   ]
  },
  {
   "cell_type": "markdown",
   "metadata": {},
   "source": [
    "**Discussion about the linear relationship:** YOUR RESPONSE HERE"
   ]
  },
  {
   "cell_type": "markdown",
   "metadata": {},
   "source": [
    "### Cloudiness vs. Latitude Linear Regression Plot"
   ]
  },
  {
   "cell_type": "code",
   "execution_count": 38,
   "metadata": {},
   "outputs": [
    {
     "name": "stdout",
     "output_type": "stream",
     "text": [
      "The slope of the line is y = 0.26x + 46.89\n",
      "The r-value/correlation of this graph is 0.13346269184417145\n"
     ]
    },
    {
     "data": {
      "image/png": "[encoded data removed]",
      "text/plain": [
       "<Figure size 432x288 with 1 Axes>"
      ]
     },
     "metadata": {
      "needs_background": "light"
     },
     "output_type": "display_data"
    }
   ],
   "source": [
    "# Northern Hemisphere\n",
    "plt.ylabel(\"Cloudiness\")\n",
    "regression_plots(northern_hemi_df[\"Lat\"], northern_hemi_df[\"Cloudiness\"])"
   ]
  },
  {
   "cell_type": "code",
   "execution_count": 39,
   "metadata": {},
   "outputs": [
    {
     "name": "stdout",
     "output_type": "stream",
     "text": [
      "The slope of the line is y = -0.11x + 48.36\n",
      "The r-value/correlation of this graph is -0.03905864135801236\n"
     ]
    },
    {
     "data": {
      "image/png": "[encoded data removed]",
      "text/plain": [
       "<Figure size 432x288 with 1 Axes>"
      ]
     },
     "metadata": {
      "needs_background": "light"
     },
     "output_type": "display_data"
    }
   ],
   "source": [
    "# Southern Hemisphere\n",
    "plt.ylabel(\"Cloudiness\")\n",
    "regression_plots(southern_hemi_df[\"Lat\"], southern_hemi_df[\"Cloudiness\"])"
   ]
  },
  {
   "cell_type": "markdown",
   "metadata": {},
   "source": [
    "**Discussion about the linear relationship:** YOUR RESPONSE HERE"
   ]
  },
  {
   "cell_type": "markdown",
   "metadata": {},
   "source": [
    "### Wind Speed vs. Latitude Linear Regression Plot"
   ]
  },
  {
   "cell_type": "code",
   "execution_count": 40,
   "metadata": {},
   "outputs": [
    {
     "name": "stdout",
     "output_type": "stream",
     "text": [
      "The slope of the line is y = -0.01x + 3.92\n",
      "The r-value/correlation of this graph is -0.10835201526653516\n"
     ]
    },
    {
     "data": {
      "image/png": "[encoded data removed]",
      "text/plain": [
       "<Figure size 432x288 with 1 Axes>"
      ]
     },
     "metadata": {
      "needs_background": "light"
     },
     "output_type": "display_data"
    }
   ],
   "source": [
    "# Northern Hemisphere\n",
    "plt.ylabel(\"Wind Speed (Meter/s)\")\n",
    "regression_plots(northern_hemi_df[\"Lat\"], northern_hemi_df[\"Wind Speed\"])"
   ]
  },
  {
   "cell_type": "code",
   "execution_count": 41,
   "metadata": {},
   "outputs": [
    {
     "name": "stdout",
     "output_type": "stream",
     "text": [
      "The slope of the line is y = -0.01x + 3.06\n",
      "The r-value/correlation of this graph is -0.034048002727281014\n"
     ]
    },
    {
     "data": {
      "image/png": "[encoded data removed]",
      "text/plain": [
       "<Figure size 432x288 with 1 Axes>"
      ]
     },
     "metadata": {
      "needs_background": "light"
     },
     "output_type": "display_data"
    }
   ],
   "source": [
    "# Southern Hemisphere\n",
    "plt.ylabel(\"Wind Speed (Meter/s)\")\n",
    "regression_plots(southern_hemi_df[\"Lat\"], southern_hemi_df[\"Wind Speed\"])"
   ]
  },
  {
   "cell_type": "markdown",
   "metadata": {},
   "source": [
    "**Discussion about the linear relationship:** Humidity does not show strong correlation, as we get -.07 and .02 for the Northern and Southern hemisphere respectively. As for cloudiness we dont see strong correlation in the North vs South with respective numbers coming in at -.04 vs -.21. We do see some but still relatively weak in the Southern Hemisphere. Lastly for windspeed we see .1 and -.1 for the North vs South respectively, which shows weak correlation, however is is interesting to see they have exact opposite correlation numbers. Not much to investigate though.\n"
   ]
  }
 ],
 "metadata": {
  "anaconda-cloud": {},
  "kernel_info": {
   "name": "python3"
  },
  "kernelspec": {
   "display_name": "Python 3 (ipykernel)",
   "language": "python",
   "name": "python3"
  },
  "language_info": {
   "codemirror_mode": {
    "name": "ipython",
    "version": 3
   },
   "file_extension": ".py",
   "mimetype": "text/x-python",
   "name": "python",
   "nbconvert_exporter": "python",
   "pygments_lexer": "ipython3",
   "version": "3.7.7"
  },
  "latex_envs": {
   "LaTeX_envs_menu_present": true,
   "autoclose": false,
   "autocomplete": true,
   "bibliofile": "biblio.bib",
   "cite_by": "apalike",
   "current_citInitial": 1,
   "eqLabelWithNumbers": true,
   "eqNumInitial": 1,
   "hotkeys": {
    "equation": "Ctrl-E",
    "itemize": "Ctrl-I"
   },
   "labels_anchors": false,
   "latex_user_defs": false,
   "report_style_numbering": false,
   "user_envs_cfg": false
  },
  "nteract": {
   "version": "0.12.3"
  }
 },
 "nbformat": 4,
 "nbformat_minor": 4
}
